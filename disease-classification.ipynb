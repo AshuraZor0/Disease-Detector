{
 "cells": [
  {
   "cell_type": "code",
   "execution_count": 1,
   "id": "f28c735b",
   "metadata": {
    "_cell_guid": "b1076dfc-b9ad-4769-8c92-a6c4dae69d19",
    "_uuid": "8f2839f25d086af736a60e9eeb907d3b93b6e0e5",
    "execution": {
     "iopub.execute_input": "2023-12-22T03:32:30.177421Z",
     "iopub.status.busy": "2023-12-22T03:32:30.176722Z",
     "iopub.status.idle": "2023-12-22T03:32:37.643500Z",
     "shell.execute_reply": "2023-12-22T03:32:37.642715Z"
    },
    "papermill": {
     "duration": 7.47609,
     "end_time": "2023-12-22T03:32:37.645933",
     "exception": false,
     "start_time": "2023-12-22T03:32:30.169843",
     "status": "completed"
    },
    "tags": []
   },
   "outputs": [],
   "source": [
    "import torch\n",
    "import pandas as pd\n",
    "import numpy as np\n",
    "import matplotlib.pyplot as plt\n",
    "import warnings\n",
    "warnings.filterwarnings('ignore')"
   ]
  },
  {
   "cell_type": "code",
   "execution_count": 2,
   "id": "430a9c65",
   "metadata": {
    "execution": {
     "iopub.execute_input": "2023-12-22T03:32:37.657191Z",
     "iopub.status.busy": "2023-12-22T03:32:37.656793Z",
     "iopub.status.idle": "2023-12-22T03:35:34.331771Z",
     "shell.execute_reply": "2023-12-22T03:35:34.330558Z"
    },
    "papermill": {
     "duration": 176.683183,
     "end_time": "2023-12-22T03:35:34.334337",
     "exception": false,
     "start_time": "2023-12-22T03:32:37.651154",
     "status": "completed"
    },
    "tags": []
   },
   "outputs": [
    {
     "name": "stdout",
     "output_type": "stream",
     "text": [
      "COVID-19  Lung_Opacity\tNORMAL\tViral_Pneumonia\r\n",
      "3616\r\n",
      "10192\r\n",
      "1345\r\n",
      "6012\r\n",
      "219\r\n"
     ]
    }
   ],
   "source": [
    "\n",
    "!mkdir /tmp/Xray_train_data\n",
    "\n",
    "! rm -rf \"/tmp/Xray_train_data/COVID-19\"\n",
    "! rm -rf \"/tmp/Xray_train_data/NORMAL\"\n",
    "! rm -rf \"/tmp/Xray_train_data/Viral_Pneumonia\"\n",
    "! rm -rf \"/tmp/Xray_train_data/Lung_Opacity\"\n",
    "\n",
    "!mkdir \"/tmp/Xray_train_data/COVID-19\"\n",
    "!mkdir \"/tmp/Xray_train_data/NORMAL\"\n",
    "!mkdir \"/tmp/Xray_train_data/Viral_Pneumonia\"\n",
    "!mkdir \"/tmp/Xray_train_data/Lung_Opacity\"\n",
    "\n",
    "!cp -R \"/kaggle/input/covid19-radiography-database/COVID-19_Radiography_Dataset/COVID/images/.\" \"/tmp/Xray_train_data/COVID-19\"\n",
    "!cp -R \"/kaggle/input/covid19-radiography-database/COVID-19_Radiography_Dataset/Normal/images/.\" \"/tmp/Xray_train_data/NORMAL\"\n",
    "!cp -R \"/kaggle/input/covid19-radiography-database/COVID-19_Radiography_Dataset/Viral Pneumonia/images/.\" \"/tmp/Xray_train_data/Viral_Pneumonia\"\n",
    "!cp -R \"/kaggle/input/covid19-radiography-database/COVID-19_Radiography_Dataset/Lung_Opacity/images/.\" \"/tmp/Xray_train_data/Lung_Opacity\"\n",
    "\n",
    "!ls \"/tmp/Xray_train_data\"\n",
    "!ls -1 \"/tmp/Xray_train_data/COVID-19\"| wc -l \n",
    "!ls -1 \"/tmp/Xray_train_data/NORMAL\"| wc -l \n",
    "!ls -1 \"/tmp/Xray_train_data/Viral_Pneumonia\"| wc -l \n",
    "!ls -1 \"/tmp/Xray_train_data/Lung_Opacity\"| wc -l\n",
    "\n",
    "!find \"/tmp/Xray_train_data/NORMAL\" -type f -print0 | sort -zR | tail -zn +220 | xargs -0 rm\n",
    "!ls -1 \"/tmp/Xray_train_data/NORMAL\"| wc -l "
   ]
  },
  {
   "cell_type": "code",
   "execution_count": 3,
   "id": "9785d6e5",
   "metadata": {
    "execution": {
     "iopub.execute_input": "2023-12-22T03:35:34.347269Z",
     "iopub.status.busy": "2023-12-22T03:35:34.346915Z",
     "iopub.status.idle": "2023-12-22T03:35:35.004033Z",
     "shell.execute_reply": "2023-12-22T03:35:35.002982Z"
    },
    "papermill": {
     "duration": 0.666386,
     "end_time": "2023-12-22T03:35:35.006527",
     "exception": false,
     "start_time": "2023-12-22T03:35:34.340141",
     "status": "completed"
    },
    "tags": []
   },
   "outputs": [],
   "source": [
    "from torchvision.datasets import ImageFolder\n",
    "from torchvision import transforms\n",
    "\n",
    "\n",
    "transform = transforms.Compose(\n",
    "    [transforms.Resize((224, 224)),\n",
    "     transforms.ToTensor(), \n",
    "     transforms.Normalize((0.5, 0.5, 0.5), (0.5, 0.5, 0.5))]) \n",
    "train_val_path=\"/tmp/Xray_train_data\"\n",
    "\n",
    "dataset = ImageFolder(train_val_path, transform=transform)\n",
    "\n"
   ]
  },
  {
   "cell_type": "code",
   "execution_count": 4,
   "id": "b1f67f41",
   "metadata": {
    "execution": {
     "iopub.execute_input": "2023-12-22T03:35:35.031866Z",
     "iopub.status.busy": "2023-12-22T03:35:35.030839Z",
     "iopub.status.idle": "2023-12-22T03:35:35.036192Z",
     "shell.execute_reply": "2023-12-22T03:35:35.035299Z"
    },
    "papermill": {
     "duration": 0.019525,
     "end_time": "2023-12-22T03:35:35.038870",
     "exception": false,
     "start_time": "2023-12-22T03:35:35.019345",
     "status": "completed"
    },
    "tags": []
   },
   "outputs": [
    {
     "name": "stdout",
     "output_type": "stream",
     "text": [
      "['COVID-19', 'Lung_Opacity', 'NORMAL', 'Viral_Pneumonia']\n"
     ]
    }
   ],
   "source": [
    "print(dataset.classes)#list out all the classes"
   ]
  },
  {
   "cell_type": "code",
   "execution_count": 5,
   "id": "f90da518",
   "metadata": {
    "execution": {
     "iopub.execute_input": "2023-12-22T03:35:35.051506Z",
     "iopub.status.busy": "2023-12-22T03:35:35.051206Z",
     "iopub.status.idle": "2023-12-22T03:35:35.058715Z",
     "shell.execute_reply": "2023-12-22T03:35:35.057772Z"
    },
    "papermill": {
     "duration": 0.016494,
     "end_time": "2023-12-22T03:35:35.061127",
     "exception": false,
     "start_time": "2023-12-22T03:35:35.044633",
     "status": "completed"
    },
    "tags": []
   },
   "outputs": [
    {
     "name": "stdout",
     "output_type": "stream",
     "text": [
      "[9705 6966 5554 5248 6304]\n"
     ]
    }
   ],
   "source": [
    "\n",
    "def split_train_val(tot_img,val_percentage=0.2,rnd=23):\n",
    "  # Here indices are randomly permuted \n",
    "  number_of_val=int(tot_img*val_percentage)\n",
    "  np.random.seed(rnd)\n",
    "  indexs=np.random.permutation(tot_img)\n",
    "  return indexs[number_of_val:],indexs[:number_of_val]\n",
    "\n",
    "randomness=12\n",
    "val_per=0.5\n",
    "train_indices,validation_indices=split_train_val(len(dataset),val_per,randomness)\n",
    "print(validation_indices[:5])"
   ]
  },
  {
   "cell_type": "code",
   "execution_count": 6,
   "id": "374a5f3b",
   "metadata": {
    "execution": {
     "iopub.execute_input": "2023-12-22T03:35:35.074471Z",
     "iopub.status.busy": "2023-12-22T03:35:35.074135Z",
     "iopub.status.idle": "2023-12-22T03:35:35.080258Z",
     "shell.execute_reply": "2023-12-22T03:35:35.079408Z"
    },
    "papermill": {
     "duration": 0.014992,
     "end_time": "2023-12-22T03:35:35.082079",
     "exception": false,
     "start_time": "2023-12-22T03:35:35.067087",
     "status": "completed"
    },
    "tags": []
   },
   "outputs": [],
   "source": [
    "from torch.utils.data.sampler import SubsetRandomSampler #samples randomly from given indices\n",
    "from torch.utils.data.dataloader import DataLoader # loads the data from sampler\n",
    "\n",
    "# Subset random sampler takes the indices to pick the data\n",
    "# dataloader loads with the main dataset, with batch size and the sampler object\n",
    "batch_size=32\n",
    "# Training Part\n",
    "train_sampler=SubsetRandomSampler(train_indices)\n",
    "trainloader=DataLoader(dataset,batch_size,num_workers=2,sampler=train_sampler)\n",
    "# Validation Part\n",
    "val_sampler=SubsetRandomSampler(validation_indices)\n",
    "testloader=DataLoader(dataset,batch_size,num_workers=2,sampler=val_sampler)"
   ]
  },
  {
   "cell_type": "code",
   "execution_count": 7,
   "id": "9a1df4a8",
   "metadata": {
    "execution": {
     "iopub.execute_input": "2023-12-22T03:35:35.093734Z",
     "iopub.status.busy": "2023-12-22T03:35:35.093426Z",
     "iopub.status.idle": "2023-12-22T03:35:35.097596Z",
     "shell.execute_reply": "2023-12-22T03:35:35.096742Z"
    },
    "papermill": {
     "duration": 0.012096,
     "end_time": "2023-12-22T03:35:35.099428",
     "exception": false,
     "start_time": "2023-12-22T03:35:35.087332",
     "status": "completed"
    },
    "tags": []
   },
   "outputs": [],
   "source": [
    "classes = ('COVID', 'Lung_Opacity', 'Normal', 'Viral Pneumonia')"
   ]
  },
  {
   "cell_type": "code",
   "execution_count": 8,
   "id": "8b2350c6",
   "metadata": {
    "execution": {
     "iopub.execute_input": "2023-12-22T03:35:35.111820Z",
     "iopub.status.busy": "2023-12-22T03:35:35.111545Z",
     "iopub.status.idle": "2023-12-22T03:35:35.115768Z",
     "shell.execute_reply": "2023-12-22T03:35:35.114930Z"
    },
    "papermill": {
     "duration": 0.012697,
     "end_time": "2023-12-22T03:35:35.117723",
     "exception": false,
     "start_time": "2023-12-22T03:35:35.105026",
     "status": "completed"
    },
    "tags": []
   },
   "outputs": [],
   "source": [
    "import torchvision\n",
    "import torchvision.transforms as transforms\n",
    "import torch.nn as nn\n",
    "import torch.optim as optim\n"
   ]
  },
  {
   "cell_type": "code",
   "execution_count": 9,
   "id": "ca649018",
   "metadata": {
    "execution": {
     "iopub.execute_input": "2023-12-22T03:35:35.129457Z",
     "iopub.status.busy": "2023-12-22T03:35:35.129203Z",
     "iopub.status.idle": "2023-12-22T03:35:35.138456Z",
     "shell.execute_reply": "2023-12-22T03:35:35.137694Z"
    },
    "papermill": {
     "duration": 0.017239,
     "end_time": "2023-12-22T03:35:35.140354",
     "exception": false,
     "start_time": "2023-12-22T03:35:35.123115",
     "status": "completed"
    },
    "tags": []
   },
   "outputs": [],
   "source": [
    "\n",
    "class Net(nn.Module):\n",
    "    def __init__(self):\n",
    "        super(Net, self).__init__()\n",
    "        self.conv1 = nn.Conv2d(3, 16, 3, 1, 1) \n",
    "        self.conv2 = nn.Conv2d(16, 32, 3, 1, 1) \n",
    "        self.conv3 = nn.Conv2d(32, 64, 3, 1, 1) \n",
    "        self.conv4 = nn.Conv2d(64, 128, 3, 1, 1) \n",
    "        self.pool = nn.MaxPool2d(2, 2) \n",
    "\n",
    "        self.fc1 = nn.Linear(128 * 14 * 14, 256)\n",
    "        self.fc2 = nn.Linear(256, 64)\n",
    "        self.fc3 = nn.Linear(64, 4) \n",
    "        self.relu = nn.ReLU()\n",
    "     \n",
    "\n",
    "    \n",
    "    def forward(self, x):\n",
    "        x = self.relu(self.conv1(x))\n",
    "        x = self.pool(x)\n",
    "        x = self.relu(self.conv2(x))\n",
    "        x = self.pool(x)\n",
    "        x = self.relu(self.conv3(x))\n",
    "        x = self.pool(x)\n",
    "        x = self.relu(self.conv4(x))\n",
    "        x = self.pool(x)\n",
    "        x = x.view(-1, 128 * 14 * 14)\n",
    "        x = self.relu(self.fc1(x))\n",
    "        x = self.relu(self.fc2(x))\n",
    "        x = self.fc3(x)\n",
    "        \n",
    "        return x\n"
   ]
  },
  {
   "cell_type": "code",
   "execution_count": 10,
   "id": "03fba746",
   "metadata": {
    "execution": {
     "iopub.execute_input": "2023-12-22T03:35:35.152318Z",
     "iopub.status.busy": "2023-12-22T03:35:35.152064Z",
     "iopub.status.idle": "2023-12-22T03:40:12.847597Z",
     "shell.execute_reply": "2023-12-22T03:40:12.846230Z"
    },
    "papermill": {
     "duration": 277.704231,
     "end_time": "2023-12-22T03:40:12.849940",
     "exception": false,
     "start_time": "2023-12-22T03:35:35.145709",
     "status": "completed"
    },
    "tags": []
   },
   "outputs": [
    {
     "name": "stdout",
     "output_type": "stream",
     "text": [
      "[1,   175] loss: 0.717 acc: 0.605\n",
      "\n",
      "[2,   175] loss: 0.606 acc: 0.720\n",
      "\n",
      "[3,   175] loss: 0.625 acc: 0.758\n",
      "\n",
      "[4,   175] loss: 0.398 acc: 0.806\n",
      "\n",
      "[5,   175] loss: 0.408 acc: 0.829\n",
      "\n",
      "[6,   175] loss: 0.382 acc: 0.859\n",
      "\n",
      "[7,   175] loss: 0.135 acc: 0.884\n",
      "\n",
      "[8,   175] loss: 0.108 acc: 0.917\n",
      "\n",
      "[9,   175] loss: 0.096 acc: 0.932\n",
      "\n",
      "[10,   175] loss: 0.098 acc: 0.944\n",
      "\n",
      "[11,   175] loss: 0.143 acc: 0.960\n",
      "\n",
      "[12,   175] loss: 0.061 acc: 0.965\n",
      "\n",
      "[13,   175] loss: 0.257 acc: 0.972\n",
      "\n",
      "[14,   175] loss: 0.230 acc: 0.976\n",
      "\n",
      "[15,   175] loss: 0.004 acc: 0.975\n",
      "\n",
      "[16,   175] loss: 0.027 acc: 0.986\n",
      "\n",
      "[17,   175] loss: 0.025 acc: 0.983\n",
      "\n",
      "[18,   175] loss: 0.070 acc: 0.986\n",
      "\n",
      "[19,   175] loss: 0.010 acc: 0.994\n",
      "\n",
      "[20,   175] loss: 0.029 acc: 0.983\n",
      "\n",
      "Finished Training\n"
     ]
    }
   ],
   "source": [
    "net = Net()\n",
    "\n",
    "# If gpu present then use it or else use cpu\n",
    "# if gpu not present dont run this cell\n",
    "def default_device():\n",
    "    \n",
    "    if torch.cuda.is_available():\n",
    "        return torch.device(\"cuda:0\")\n",
    "    else:\n",
    "        return torch.device(\"cpu\")\n",
    "\n",
    "device=default_device()\n",
    "\n",
    "net.to(device)\n",
    "\n",
    "criterion = nn.CrossEntropyLoss()\n",
    "optimizer = optim.SGD(net.parameters(), lr=0.01, momentum=0.9)\n",
    "\n",
    "def train(epoch):\n",
    "    net.train()\n",
    "    train_loss = 0.0\n",
    "    correct = 0\n",
    "    for i, data in enumerate(trainloader, 0):\n",
    "        inputs, labels = data\n",
    "        inputs,labels=inputs.to(device),labels.to(device)\n",
    "        optimizer.zero_grad()\n",
    "        outputs = net(inputs)\n",
    "        loss = criterion(outputs, labels)\n",
    "        loss.backward()\n",
    "        optimizer.step()\n",
    "        train_loss += loss.item()\n",
    "        _, predicted = torch.max(outputs.data, 1)\n",
    "        correct += (predicted == labels).sum().item()\n",
    "        print('\\r[%d, %5d] loss: %.3f acc: %.3f' %\n",
    "            (epoch + 1, i + 1, loss, correct / ((i+1) * 32)),end = \"\")\n",
    "    print(\"\\n\")\n",
    "\n",
    "num_epochs = 20\n",
    "\n",
    "for epoch in range(num_epochs):\n",
    "    train(epoch)\n",
    "#     test()\n",
    "print('Finished Training')\n",
    "PATH = './net.pth'\n",
    "torch.save(net.state_dict(), PATH)\n"
   ]
  },
  {
   "cell_type": "code",
   "execution_count": 11,
   "id": "0813dc57",
   "metadata": {
    "execution": {
     "iopub.execute_input": "2023-12-22T03:40:13.024326Z",
     "iopub.status.busy": "2023-12-22T03:40:13.023950Z",
     "iopub.status.idle": "2023-12-22T03:40:27.090239Z",
     "shell.execute_reply": "2023-12-22T03:40:27.088819Z"
    },
    "papermill": {
     "duration": 14.155482,
     "end_time": "2023-12-22T03:40:27.092547",
     "exception": false,
     "start_time": "2023-12-22T03:40:12.937065",
     "status": "completed"
    },
    "tags": []
   },
   "outputs": [
    {
     "name": "stdout",
     "output_type": "stream",
     "text": [
      "Accuracy of the network on the test images: 91 %\n"
     ]
    }
   ],
   "source": [
    "correct = 0 \n",
    "total = 0 \n",
    "with torch.no_grad(): \n",
    "    for data in testloader: \n",
    "        images, labels = data \n",
    "        images, labels=images.to(device),labels.to(device)\n",
    "        outputs = net(images) \n",
    "        _, predicted = torch.max(outputs.data, 1)\n",
    "        total += labels.size(0)\n",
    "        correct += (predicted == labels).sum().item() \n",
    "\n",
    "print('Accuracy of the network on the test images: %d %%' % (\n",
    "    100 * correct / total))"
   ]
  },
  {
   "cell_type": "code",
   "execution_count": 12,
   "id": "89cc2c81",
   "metadata": {
    "execution": {
     "iopub.execute_input": "2023-12-22T03:40:27.261371Z",
     "iopub.status.busy": "2023-12-22T03:40:27.260494Z",
     "iopub.status.idle": "2023-12-22T03:40:28.945304Z",
     "shell.execute_reply": "2023-12-22T03:40:28.944359Z"
    },
    "papermill": {
     "duration": 1.772969,
     "end_time": "2023-12-22T03:40:28.948036",
     "exception": false,
     "start_time": "2023-12-22T03:40:27.175067",
     "status": "completed"
    },
    "tags": []
   },
   "outputs": [],
   "source": [
    "import sklearn.metrics as metrics\n",
    "from sklearn.metrics import classification_report"
   ]
  },
  {
   "cell_type": "code",
   "execution_count": 13,
   "id": "95b72525",
   "metadata": {
    "execution": {
     "iopub.execute_input": "2023-12-22T03:40:29.112119Z",
     "iopub.status.busy": "2023-12-22T03:40:29.111711Z",
     "iopub.status.idle": "2023-12-22T03:40:56.422758Z",
     "shell.execute_reply": "2023-12-22T03:40:56.421555Z"
    },
    "papermill": {
     "duration": 27.397246,
     "end_time": "2023-12-22T03:40:56.425524",
     "exception": false,
     "start_time": "2023-12-22T03:40:29.028278",
     "status": "completed"
    },
    "tags": []
   },
   "outputs": [
    {
     "name": "stdout",
     "output_type": "stream",
     "text": [
      "[[1520  214    7   25]\n",
      " [  54 2951   34    7]\n",
      " [   9   85   18   10]\n",
      " [   6    6    1  649]]\n",
      "classification report...\n",
      "              precision    recall  f1-score   support\n",
      "\n",
      "           0       0.96      0.86      0.91      1766\n",
      "           1       0.91      0.97      0.94      3046\n",
      "           2       0.30      0.15      0.20       122\n",
      "           3       0.94      0.98      0.96       662\n",
      "\n",
      "    accuracy                           0.92      5596\n",
      "   macro avg       0.78      0.74      0.75      5596\n",
      "weighted avg       0.91      0.92      0.91      5596\n",
      "\n"
     ]
    },
    {
     "data": {
      "image/png": "[encoded data removed]",
      "text/plain": [
       "<Figure size 640x480 with 2 Axes>"
      ]
     },
     "metadata": {},
     "output_type": "display_data"
    },
    {
     "data": {
      "image/png": "[encoded data removed]",
      "text/plain": [
       "<Figure size 640x480 with 1 Axes>"
      ]
     },
     "metadata": {},
     "output_type": "display_data"
    }
   ],
   "source": [
    "\n",
    "y_true = [] \n",
    "y_pred = [] \n",
    "with torch.no_grad(): \n",
    "    for data in testloader: \n",
    "        images, labels = data \n",
    "        images, labels=images.to(device),labels.to(device)\n",
    "        outputs = net(images) \n",
    "        _, predicted = torch.max(outputs, 1) \n",
    "        y_true.extend(labels.cpu().numpy()) \n",
    "        y_pred.extend(predicted.cpu().numpy()) \n",
    "\n",
    "cm = metrics.confusion_matrix(y_true, y_pred)\n",
    "print(cm) \n",
    "\n",
    "print(\n",
    "        'classification report...\\n{}'\n",
    "        ''.format(classification_report(y_true=y_true, y_pred=y_pred))\n",
    "    )\n",
    "\n",
    "\n",
    "plt.imshow(cm, cmap=plt.cm.Blues) \n",
    "plt.title('Confusion matrix') \n",
    "plt.colorbar() \n",
    "tick_marks = np.arange(4) \n",
    "plt.xticks(tick_marks, classes, rotation=45) \n",
    "plt.yticks(tick_marks, classes) \n",
    "\n",
    "thresh = cm.max() / 2.\n",
    "for i in range(cm.shape[0]): \n",
    "    for j in range(cm.shape[1]): \n",
    "        plt.text(j, i, cm[i, j], horizontalalignment=\"center\", color=\"white\" if cm[i, j] > thresh else \"black\") \n",
    "        \n",
    "\n",
    "plt.tight_layout() \n",
    "plt.ylabel('True label') \n",
    "plt.xlabel('Predicted label') \n",
    "plt.show() \n",
    "\n",
    "\n",
    "y_score = [] \n",
    "with torch.no_grad(): \n",
    "    for data in testloader: \n",
    "        images, labels = data\n",
    "        images, labels=images.to(device),labels.to(device)\n",
    "        outputs = net(images) \n",
    "        outputs = torch.softmax(outputs, dim=1) \n",
    "        y_score.extend(outputs.cpu().numpy()) \n",
    "\n",
    "y_score = np.array(y_score) \n",
    "y_true = np.array(y_true)\n",
    "\n",
    "fpr = dict() \n",
    "tpr = dict() \n",
    "roc_auc = dict() \n",
    "for i in range(4): \n",
    "    fpr[i], tpr[i], _ = metrics.roc_curve(y_true == i, y_score[:, i])\n",
    "    roc_auc[i] = metrics.auc(fpr[i], tpr[i]) \n",
    "\n",
    "plt.figure() \n",
    "for i in range(4): \n",
    "    plt.plot(fpr[i], tpr[i], label='%s (area = %0.2f)' % (classes[i], roc_auc[i])) \n",
    "plt.plot([0, 1], [0, 1], 'k--') \n",
    "plt.xlim([0.0, 1.0]) \n",
    "plt.ylim([0.0, 1.05])\n",
    "plt.xlabel('False Positive Rate')\n",
    "plt.ylabel('True Positive Rate') \n",
    "plt.title('Receiver operating characteristic curve') \n",
    "plt.legend(loc=\"lower right\") \n",
    "plt.show() "
   ]
  },
  {
   "cell_type": "code",
   "execution_count": null,
   "id": "c02caa36",
   "metadata": {
    "papermill": {
     "duration": 0.092749,
     "end_time": "2023-12-22T03:40:56.614020",
     "exception": false,
     "start_time": "2023-12-22T03:40:56.521271",
     "status": "completed"
    },
    "tags": []
   },
   "outputs": [],
   "source": []
  },
  {
   "cell_type": "code",
   "execution_count": null,
   "id": "7b2ca0a8",
   "metadata": {
    "papermill": {
     "duration": 0.091208,
     "end_time": "2023-12-22T03:40:56.799302",
     "exception": false,
     "start_time": "2023-12-22T03:40:56.708094",
     "status": "completed"
    },
    "tags": []
   },
   "outputs": [],
   "source": []
  },
  {
   "cell_type": "code",
   "execution_count": null,
   "id": "f871ca5c",
   "metadata": {
    "papermill": {
     "duration": 0.090984,
     "end_time": "2023-12-22T03:40:56.980799",
     "exception": false,
     "start_time": "2023-12-22T03:40:56.889815",
     "status": "completed"
    },
    "tags": []
   },
   "outputs": [],
   "source": []
  }
 ],
 "metadata": {
  "kaggle": {
   "accelerator": "nvidiaTeslaT4",
   "dataSources": [
    {
     "datasetId": 576013,
     "sourceId": 3324348,
     "sourceType": "datasetVersion"
    }
   ],
   "dockerImageVersionId": 30627,
   "isGpuEnabled": true,
   "isInternetEnabled": false,
   "language": "python",
   "sourceType": "notebook"
  },
  "kernelspec": {
   "display_name": "Python 3",
   "language": "python",
   "name": "python3"
  },
  "language_info": {
   "codemirror_mode": {
    "name": "ipython",
    "version": 3
   },
   "file_extension": ".py",
   "mimetype": "text/x-python",
   "name": "python",
   "nbconvert_exporter": "python",
   "pygments_lexer": "ipython3",
   "version": "3.10.12"
  },
  "papermill": {
   "default_parameters": {},
   "duration": 514.567369,
   "end_time": "2023-12-22T03:41:00.223945",
   "environment_variables": {},
   "exception": null,
   "input_path": "__notebook__.ipynb",
   "output_path": "__notebook__.ipynb",
   "parameters": {},
   "start_time": "2023-12-22T03:32:25.656576",
   "version": "2.4.0"
  }
 },
 "nbformat": 4,
 "nbformat_minor": 5
}
